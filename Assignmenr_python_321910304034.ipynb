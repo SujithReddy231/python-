{
 "cells": [
  {
   "cell_type": "code",
   "execution_count": 1,
   "metadata": {
    "scrolled": true
   },
   "outputs": [
    {
     "name": "stdout",
     "output_type": "stream",
     "text": [
      "enter the temperature value in celsius:37\n",
      "temperature in farenheit: 98.60000000000001\n"
     ]
    }
   ],
   "source": [
    "#to convert temperature from celsius to farenheit\n",
    "c=float(input(\"enter the temperature value in celsius:\"))\n",
    "f=(1.8*c)+32\n",
    "print(\"temperature in farenheit:\",f)"
   ]
  },
  {
   "cell_type": "code",
   "execution_count": 2,
   "metadata": {},
   "outputs": [
    {
     "name": "stdout",
     "output_type": "stream",
     "text": [
      "enter the base value:25\n",
      "enter the height value:33\n",
      "area of the triangle 412.5\n"
     ]
    }
   ],
   "source": [
    "#area of the triangle\n",
    "b=float(input(\"enter the base value:\"))\n",
    "h=float(input(\"enter the height value:\"))\n",
    "area=0.5*b*h\n",
    "print(\"area of the triangle\",area)"
   ]
  },
  {
   "cell_type": "code",
   "execution_count": 3,
   "metadata": {},
   "outputs": [
    {
     "name": "stdout",
     "output_type": "stream",
     "text": [
      "enter the length:2\n",
      "enter the breadth:3\n",
      "area of rectangle: 6.0\n"
     ]
    }
   ],
   "source": [
    "#area of rectangle\n",
    "l=float(input(\"enter the length:\"))\n",
    "b=float(input(\"enter the breadth:\"))\n",
    "area=l*b\n",
    "print(\"area of rectangle:\",area)"
   ]
  },
  {
   "cell_type": "code",
   "execution_count": 4,
   "metadata": {},
   "outputs": [
    {
     "name": "stdout",
     "output_type": "stream",
     "text": [
      "enter the radius value:6\n",
      "area of circle 113.112\n"
     ]
    }
   ],
   "source": [
    "#area of circle\n",
    "r=int(input(\"enter the radius value:\"))\n",
    "area=3.142*r*r\n",
    "print(\"area of circle\",area)"
   ]
  },
  {
   "cell_type": "code",
   "execution_count": 5,
   "metadata": {},
   "outputs": [
    {
     "name": "stdout",
     "output_type": "stream",
     "text": [
      "enter the radius value:6\n",
      "circumference of the circle: 37.704\n"
     ]
    }
   ],
   "source": [
    "#circumference of circle\n",
    "r=float(input(\"enter the radius value:\"))\n",
    "c=2*3.142*r\n",
    "print(\"circumference of the circle:\",c)"
   ]
  },
  {
   "cell_type": "code",
   "execution_count": 2,
   "metadata": {},
   "outputs": [
    {
     "name": "stdout",
     "output_type": "stream",
     "text": [
      "enter the value of p:30000\n",
      "enter the value of t:3\n",
      "enter the value of r:2\n",
      "simple interest: 1800.0\n"
     ]
    }
   ],
   "source": [
    "#simple interest\n",
    "p=int(input(\"enter the value of p:\"))\n",
    "t=int(input(\"enter the value of t:\"))\n",
    "r=int(input(\"enter the value of r:\"))\n",
    "si=((p*t*r)/100)\n",
    "print(\"simple interest:\",si)"
   ]
  },
  {
   "cell_type": "code",
   "execution_count": 3,
   "metadata": {},
   "outputs": [
    {
     "name": "stdout",
     "output_type": "stream",
     "text": [
      "enter the side value:55\n",
      "perimeter of the square: 220.0\n"
     ]
    }
   ],
   "source": [
    "#perimeter of square\n",
    "a=float(input(\"enter the side value:\"))\n",
    "perimeter=4*a\n",
    "print(\"perimeter of the square:\",perimeter)"
   ]
  },
  {
   "cell_type": "code",
   "execution_count": 5,
   "metadata": {},
   "outputs": [
    {
     "name": "stdout",
     "output_type": "stream",
     "text": [
      "enter a value:1\n",
      "enter b value:2\n",
      "value of a before swapping: 1\n",
      "value of b before swapping: 2\n",
      "value of a after swapping: 2\n",
      "value of b after swapping: 1\n"
     ]
    }
   ],
   "source": [
    "#swapping of two numbers\n",
    "a=int(input(\"enter a value:\"))\n",
    "b=int(input(\"enter b value:\"))\n",
    "print(\"value of a before swapping:\",a)\n",
    "print(\"value of b before swapping:\",b)\n",
    "a=a+b\n",
    "b=a-b\n",
    "a=a-b\n",
    "print(\"value of a after swapping:\",a)\n",
    "print(\"value of b after swapping:\",b)"
   ]
  },
  {
   "cell_type": "code",
   "execution_count": 7,
   "metadata": {},
   "outputs": [
    {
     "name": "stdout",
     "output_type": "stream",
     "text": [
      "enter operator:+\n",
      "enter the value of a:2\n",
      "enter the value of b:3\n",
      "2 + 3 : 5\n"
     ]
    }
   ],
   "source": [
    "c=input(\"enter operator:\")\n",
    "a=int(input(\"enter the value of a:\"))\n",
    "b=int(input(\"enter the value of b:\"))\n",
    "if(c=='+'):\n",
    " print(a,\"+\",b,\":\",(a+b))\n",
    "elif(c=='-'):\n",
    "    print(a,\"-\",b,\":\",(a-b))\n",
    "elif(c=='*'):\n",
    "   print(a,\"*\",b,\":\",(a*b))\n",
    "elif(c=='/'):\n",
    "   print(a,\"/\",b,\":\",(a/b))\n",
    "elif(c=='%'):\n",
    "   print(a,\"%\",b,\":\",(a%b))\n",
    "elif(c=='**'):\n",
    "   print(a,\"**\",b,\":\",pow(a,b))\n",
    "elif(c=='//'):\n",
    "   print(a,\"//\",b,\":\",(a//b))\n",
    "else:\n",
    " print(\"invalid output\")\n"
   ]
  },
  {
   "cell_type": "code",
   "execution_count": null,
   "metadata": {},
   "outputs": [],
   "source": []
  }
 ],
 "metadata": {
  "kernelspec": {
   "display_name": "Python 3",
   "language": "python",
   "name": "python3"
  },
  "language_info": {
   "codemirror_mode": {
    "name": "ipython",
    "version": 3
   },
   "file_extension": ".py",
   "mimetype": "text/x-python",
   "name": "python",
   "nbconvert_exporter": "python",
   "pygments_lexer": "ipython3",
   "version": "3.8.3"
  }
 },
 "nbformat": 4,
 "nbformat_minor": 4
}
